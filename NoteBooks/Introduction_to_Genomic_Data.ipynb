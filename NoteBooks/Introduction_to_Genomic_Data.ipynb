{
 "cells": [
  {
   "cell_type": "markdown",
   "id": "2b7faaa9",
   "metadata": {
    "id": "2b7faaa9"
   },
   "source": [
    "<img src=\"materials/images/introduction-to-genomic-data-cover.png\"/>"
   ]
  },
  {
   "cell_type": "markdown",
   "id": "369f5a20",
   "metadata": {
    "id": "369f5a20"
   },
   "source": [
    "# Introduction to Genomics"
   ]
  },
  {
   "cell_type": "markdown",
   "id": "42c9fc5f",
   "metadata": {
    "id": "42c9fc5f"
   },
   "source": [
    "Genomics is the branch of molecular biology concerned with the structure, function, evolution, and mapping of genomes.\n",
    "\n",
    "In this module, you will be learning about how to process and annotate **Variant Call Format (VCF)** file using Amazon Athena. The Variant Call Format specifies the format of a text file used in bioinformatics for storing gene sequence variations.\n",
    "\n",
    "The format has been developed with the advent of large-scale genotyping and DNA sequencing projects, such as the ***1000 Genomes Project***."
   ]
  },
  {
   "cell_type": "markdown",
   "id": "b3-PS1S-fdRS",
   "metadata": {
    "id": "b3-PS1S-fdRS"
   },
   "source": [
    "`🕒 This module should take about 30 minutes to complete.`\n",
    "\n",
    "`✍️ This notebook is written using Python.`"
   ]
  },
  {
   "cell_type": "markdown",
   "id": "QtKAV5AGYr5r",
   "metadata": {
    "id": "QtKAV5AGYr5r"
   },
   "source": [
    "<div class=\"alert alert-block alert-info\">\n",
    "<h3>⌨️ Keyboard shortcut</h3>\n",
    "\n",
    "These common shortcut could save your time going through this notebook:\n",
    "- Run the current cell: **`Enter + Shift`**.\n",
    "- Add a cell above the current cell: Press **`A`**.\n",
    "- Add a cell below the current cell: Press **`B`**.\n",
    "- Change a code cell to markdown cell: Select the cell, and then press **`M`**.\n",
    "- Delete a cell: Press **`D`** twice.\n",
    "\n",
    "Need more help with keyboard shortcut? Press **`H`** to look it up.\n",
    "</div>"
   ]
  },
  {
   "cell_type": "markdown",
   "id": "NQjI63DVgFU4",
   "metadata": {
    "id": "NQjI63DVgFU4"
   },
   "source": [
    "\n",
    "\n",
    "---\n"
   ]
  },
  {
   "cell_type": "code",
   "execution_count": 2,
   "id": "7162b246",
   "metadata": {
    "id": "7162b246"
   },
   "outputs": [],
   "source": [
    "# Tables you can query\n",
    "# ['default.g1000vcf_csv_int', 'default.g1000vcf_csv', 'default.g1000vcf_parquet', 'default.g1000vcf_partitioned']\n",
    "# COSMIC68 Annotation Dataset ['1000_genomes.hg19_cosmic68_int']\n",
    "# UCSC RefGene Annotation Dataset ['1000_genomes.hg19_ucsc_refgene_int']"
   ]
  },
  {
   "cell_type": "markdown",
   "id": "fbf6ab1f",
   "metadata": {
    "id": "fbf6ab1f"
   },
   "source": [
    "---"
   ]
  },
  {
   "cell_type": "markdown",
   "id": "a19b57dd",
   "metadata": {
    "id": "a19b57dd"
   },
   "source": [
    "# Initial Setup"
   ]
  },
  {
   "cell_type": "markdown",
   "id": "6a4285bd",
   "metadata": {
    "id": "6a4285bd"
   },
   "source": [
    "We'll use the PyAthena library to get access to a database stored in AWS S3. You can read more about PyAthena here:\n",
    "\n",
    "• https://pypi.org/project/pyathena/\n",
    "\n",
    "• https://aws.amazon.com/athena/?whats-new-cards.sort-by=item.additionalFields.postDateTime&whats-new-cards.sort-order=desc"
   ]
  },
  {
   "cell_type": "code",
   "execution_count": 3,
   "id": "bbf47a77",
   "metadata": {
    "id": "bbf47a77"
   },
   "outputs": [
    {
     "name": "stderr",
     "output_type": "stream",
     "text": [
      "/tmp/ipykernel_105/317448135.py:3: DeprecationWarning: \n",
      "Pyarrow will become a required dependency of pandas in the next major release of pandas (pandas 3.0),\n",
      "(to allow more performant data types, such as the Arrow string type, and better interoperability with other libraries)\n",
      "but was not found to be installed on your system.\n",
      "If this would cause problems for you,\n",
      "please provide us feedback at https://github.com/pandas-dev/pandas/issues/54466\n",
      "        \n",
      "  import pandas as pd\n"
     ]
    }
   ],
   "source": [
    "import sys\n",
    "import pyathena\n",
    "import pandas as pd\n",
    "\n",
    "from IPython import display\n",
    "\n",
    "conn = pyathena.connect(s3_staging_dir=\"s3://athena-output-351869726285/\", region_name='us-east-1', encryption_option='SSE_S3')"
   ]
  },
  {
   "cell_type": "markdown",
   "id": "7cd1ab4f",
   "metadata": {
    "id": "7cd1ab4f"
   },
   "source": [
    "---"
   ]
  },
  {
   "cell_type": "markdown",
   "id": "ba9e982b",
   "metadata": {
    "id": "ba9e982b"
   },
   "source": [
    "# Query the 1000 Genomes Project Dataset"
   ]
  },
  {
   "cell_type": "markdown",
   "id": "ccb28591",
   "metadata": {
    "id": "ccb28591"
   },
   "source": [
    "It's usually helpful to picture the data before performing any analysis, so we are going to import the database as the first step, and then view a few random rows."
   ]
  },
  {
   "cell_type": "markdown",
   "id": "0334839e",
   "metadata": {
    "id": "0334839e"
   },
   "source": [
    "<div class=\"alert alert-block alert-info\">\n",
    "<b>Tip:</b> If you are new to Jupyter Notebook, try run the code cell below using keyboard shortcut: \"Shift\" + \"Enter\". You could look up more keyboard shortcuts by pressing \"H\".\n",
    "</div>"
   ]
  },
  {
   "cell_type": "code",
   "execution_count": null,
   "id": "e73bd98e",
   "metadata": {
    "id": "e73bd98e"
   },
   "outputs": [],
   "source": [
    "# pd.set_option('display.max_colwidth', None) # This code expands the table horizontally so that all table cells are visible.\n",
    "pd.read_sql('SELECT * FROM default.g1000vcf_csv_int LIMIT 10', conn).head(10)"
   ]
  },
  {
   "cell_type": "markdown",
   "id": "bac425fa",
   "metadata": {
    "id": "bac425fa"
   },
   "source": [
    "We will go through a few important columns for you to understand in the table above. If you want to dive deeper, you may find this document helpful:https://samtools.github.io/hts-specs/VCFv4.2.pdf\n",
    "\n",
    "1. `chrm` is the chromosome location.\n",
    "2. `start_position` is the start position of the DNA variant.\n",
    "3. `end_position` is the end position of the DNA variant.\n",
    "4. `reference_base` is the allele at a specific location in the reference genomes, which are considered as the \"approximated normal\".\n",
    "5. `alternate_base` is the allele that shows up at a specific location in the sample, but does not exist at the corresponding location in the reference genomes.\n",
    "6. `rsid` is the identification number of the SNPs (Single Nucleotide Polymorphism), see here: https://www.snpedia.com/index.php/SNPedia\n",
    "7. `qual` is the Phred-scaled quality score for the assertion made in ALT.\n",
    "8. `filter` indicates PASS when the position has passed all filters."
   ]
  },
  {
   "cell_type": "markdown",
   "id": "5f7d502e",
   "metadata": {
    "id": "5f7d502e"
   },
   "source": [
    "The `info` column explains additional information about the data. In the example below, we can tell the percentage of East Asian population who has `rs559815820` SNP is only **0.0399361%**. That is 2 alleles count out of 5008 alleles from 2504 samples in the ***1000 Genomes Project***. The percentage of East Asian population who has `rs559815820` SNP is **0.1%**."
   ]
  },
  {
   "cell_type": "markdown",
   "id": "f54bcd9b",
   "metadata": {
    "id": "f54bcd9b"
   },
   "source": [
    "<img src=\"materials/images/example-1.png\"/>"
   ]
  },
  {
   "cell_type": "markdown",
   "id": "c4e3a716",
   "metadata": {
    "id": "c4e3a716"
   },
   "source": [
    "Now, try to reference the explanation below about the additional information section. Select a SNP from the data you queried: How does this SNP present in the ethnic group you belong to, in comparison to other ethnic groups?\n",
    "\n",
    "1. `AC` stands for allele count in genotypes.\n",
    "2. `AF` stands for allele frequency. Note: allele frequency (AF) = allele count (AC)/ allele number (AN)\n",
    "3. `AN` stands for total number of alleles in genotypes.\n",
    "4. `NS` stands for number of samples with data.\n",
    "5. `EAS_AF` is the allele frequency of **East Asian population**.\n",
    "6. `AMR_AF` is the allele frequency of **Ad Mixed American population**.\n",
    "7. `EUR_AF` is the allele frequency of **European population**.\n",
    "8. `AFR_AF` is the allele frequency of **African population**.\n",
    "9. `SAS_AF` is the allele frequency of **South Asian population**."
   ]
  },
  {
   "cell_type": "markdown",
   "id": "2398b201",
   "metadata": {
    "id": "2398b201"
   },
   "source": [
    "---"
   ]
  },
  {
   "cell_type": "markdown",
   "id": "a0ba4728",
   "metadata": {
    "id": "a0ba4728"
   },
   "source": [
    "# Search for SNPs (Single Nucleotide Polymorphism)"
   ]
  },
  {
   "cell_type": "markdown",
   "id": "3b52cc1c",
   "metadata": {
    "id": "3b52cc1c"
   },
   "source": [
    "Next, pick a SNPs you are interested in investigating from this website: https://www.snpedia.com\n",
    "\n",
    "The website has SNPs associated with a wide range of phenotypes. You could start exploring the popular SNPs on the homepage.\n",
    "\n",
    "Here are a few examples:\n",
    "1. `rs53576` is highly associated with the ability to empathize with others.\n",
    "2. `rs72921001` is responsible for certain population's dislike towards the taste of cilantro.\n",
    "3. `rs28936679` is associated with sleep disorder.\n",
    "4. `rs1805009` is associated with skin cancer."
   ]
  },
  {
   "cell_type": "markdown",
   "id": "24111193",
   "metadata": {
    "id": "24111193"
   },
   "source": [
    "The example code below calls the data in the ***1000 Genomes Project*** that has `rs12913832`, see the code  ` WHERE rsid='rs12913832'`.\n",
    "\n",
    "`rs12913832` is the SNP associated with blue or brown eye color."
   ]
  },
  {
   "cell_type": "code",
   "execution_count": null,
   "id": "c3ea6a0c",
   "metadata": {
    "id": "c3ea6a0c"
   },
   "outputs": [],
   "source": [
    "pd.set_option('display.max_colwidth', None) # This code expands the table horizontally so that all table cells are visible.\n",
    "pd.read_sql(\"SELECT * FROM \\\"default\\\".g1000vcf_csv_int WHERE rsid='rs12913832'\", conn).head()"
   ]
  },
  {
   "cell_type": "markdown",
   "id": "5d37f6ea",
   "metadata": {
    "id": "5d37f6ea"
   },
   "source": [
    "Does the result above make sense to you?\n",
    "\n",
    "We can see allele frequency of `rs12913832` among **Ad Mixed American** and **European** populations are 20.17% and 63.62% respectively, while only 0.2% among **East Asian** and 2.8% among **African** populations."
   ]
  },
  {
   "cell_type": "markdown",
   "id": "bbdffb00",
   "metadata": {
    "id": "bbdffb00"
   },
   "source": [
    "---"
   ]
  },
  {
   "cell_type": "markdown",
   "id": "8b582c80",
   "metadata": {
    "id": "8b582c80"
   },
   "source": [
    "# Query COSMIC68 Annotation Dataset (hg19)"
   ]
  },
  {
   "cell_type": "markdown",
   "id": "6ad07537",
   "metadata": {
    "id": "6ad07537"
   },
   "source": [
    "***COSMIC*** database is short for Catalogue of Somatic Mutations in Cancer [hg19 cosmic 68]. Learn more at\n",
    "https://cancer.sanger.ac.uk/cosmic.\n",
    "\n",
    "Now, let's take a look at few random rows of the ***COSMIC*** database:"
   ]
  },
  {
   "cell_type": "code",
   "execution_count": null,
   "id": "f478a8c1",
   "metadata": {
    "id": "f478a8c1"
   },
   "outputs": [],
   "source": [
    "pd.read_sql('SELECT * FROM \"1000_genomes\".hg19_cosmic68 LIMIT 10', conn).head(10)"
   ]
  },
  {
   "cell_type": "markdown",
   "id": "5b2ad8c8",
   "metadata": {
    "id": "5b2ad8c8"
   },
   "source": [
    "Like previous datasets, we see the chromosome location, start and end positions in DNA sequence, reference allele and alternate allele.\n",
    "\n",
    "The `cosmic_info` column tells us the types of cancer and mutation occurence."
   ]
  },
  {
   "cell_type": "markdown",
   "id": "96341538",
   "metadata": {
    "id": "96341538"
   },
   "source": [
    "---"
   ]
  },
  {
   "cell_type": "markdown",
   "id": "01e279ff",
   "metadata": {
    "id": "01e279ff"
   },
   "source": [
    "# Query UCSC RefGene Annotation Dataset (hg19)"
   ]
  },
  {
   "cell_type": "markdown",
   "id": "180c4f78",
   "metadata": {
    "id": "180c4f78"
   },
   "source": [
    "The NCBI RefSeq Genes composite track shows human protein-coding and non-protein-coding genes taken from the NCBI RNA reference sequences collection (RefSeq) [hg19 refGene]. You could learn more at the following:\n",
    "- https://hgdownload.cse.ucsc.edu/goldenPath/hg19/database/\n",
    "- https://genome.ucsc.edu/cgi-bin/hgTables?db=hg19&hgta_group=genes&hgta_track=refSeqComposite&hgta_table=refGene&hgta_doSchema=describe+table+schema (Schema for NCBI RefSeq - RefSeq genes from NCBI)"
   ]
  },
  {
   "cell_type": "markdown",
   "id": "bde31319",
   "metadata": {
    "id": "bde31319"
   },
   "source": [
    "<img src=\"materials/images/genetic-mutations.png\"/>"
   ]
  },
  {
   "cell_type": "markdown",
   "id": "3440eed7",
   "metadata": {
    "id": "3440eed7"
   },
   "source": [
    "Now, let's take a look at random rows of the dataset:"
   ]
  },
  {
   "cell_type": "code",
   "execution_count": null,
   "id": "2898afc2",
   "metadata": {
    "id": "2898afc2"
   },
   "outputs": [],
   "source": [
    "pd.read_sql('SELECT * FROM \"1000_genomes\".hg19_ucsc_refgene_int LIMIT 10', conn).head(10)"
   ]
  },
  {
   "cell_type": "markdown",
   "id": "3fd80a8a",
   "metadata": {
    "id": "3fd80a8a"
   },
   "source": [
    "Here are what some of the columns mean according to Schema for NCBI RefSeq - RefSeq genes from NCBI:\n",
    "\n",
    "1. `cdsstart`: Coding region start.\n",
    "2. `cdsend`: Coding region end.\n",
    "3. `exoncount`: Number of exons.\n",
    "4. `strand`: + or - for strand\n"
   ]
  },
  {
   "cell_type": "markdown",
   "id": "89d36709",
   "metadata": {
    "id": "89d36709"
   },
   "source": [
    "---"
   ]
  },
  {
   "cell_type": "markdown",
   "id": "d6c47fc7",
   "metadata": {
    "id": "d6c47fc7"
   },
   "source": [
    "# Variant-Based Annotation"
   ]
  },
  {
   "cell_type": "markdown",
   "id": "1cc8a79b",
   "metadata": {
    "id": "1cc8a79b"
   },
   "source": [
    "Variant-based annotation aims to look for **exact matches** between a query variant and a record in annotation datasets (i.e., two items have identical  chromosome, start position, end position, reference allele and alternative allele).\n",
    "\n",
    "The code below uses the `JOIN` function to look for exact matches between the ***1000 Genomes Project*** dataset and the ***COSMIC*** dataset. It compares the start and end positions, reference allele, alternate allele at chromosome 2 between the two datasets."
   ]
  },
  {
   "cell_type": "code",
   "execution_count": null,
   "id": "7f140616",
   "metadata": {
    "id": "7f140616",
    "scrolled": true
   },
   "outputs": [],
   "source": [
    "pd.read_sql(\"SELECT A.chrm, A.start_position, A.end_position, A.reference_bases, A.alternate_bases,B.cosmic_info, A.info \"\n",
    "+ \" FROM (SELECT * FROM \\\"default\\\".g1000vcf_csv_int WHERE chrm='2') as A \"\n",
    "+ \" JOIN \"\n",
    "+ \" (SELECT * FROM \\\"1000_genomes\\\".hg19_cosmic68_int WHERE chrm='2') as B \"\n",
    "+ \" ON A.start_position=B.start_position AND A.alternate_bases=B.alternate_bases \"\n",
    "+ \" ORDER By  A.start_position\", conn).head()"
   ]
  },
  {
   "cell_type": "markdown",
   "id": "ff0e97ae",
   "metadata": {
    "id": "ff0e97ae"
   },
   "source": [
    "The returned table tells us information about genes associated with different types of cancers.\n",
    "\n",
    "In the example below, the cancer related to central nervous system is at chromosome 2, where the reference allele is C and alternate allele is T. It appears to only happen to **East Asian** population with a frequency of 1.69% while absent among other populations."
   ]
  },
  {
   "cell_type": "markdown",
   "id": "454c75a5",
   "metadata": {
    "id": "454c75a5"
   },
   "source": [
    "<img src=\"materials/images/example-2.png\"/>"
   ]
  },
  {
   "cell_type": "markdown",
   "id": "3cf54816",
   "metadata": {
    "id": "3cf54816"
   },
   "source": [
    "---"
   ]
  },
  {
   "cell_type": "markdown",
   "id": "ed2e7181",
   "metadata": {
    "id": "ed2e7181"
   },
   "source": [
    "# Interval-Based Annotation [TP53: chrm17]"
   ]
  },
  {
   "cell_type": "markdown",
   "id": "fdf1a4e7",
   "metadata": {
    "id": "fdf1a4e7"
   },
   "source": [
    "The aim of interval-based annotation is to look for overlap of a query variant with a region (this region could be a single position) in annotation databases."
   ]
  },
  {
   "cell_type": "markdown",
   "id": "d75acd23",
   "metadata": {
    "id": "d75acd23"
   },
   "source": [
    "<img src=\"materials/images/overlapping-condition.png\"/>"
   ]
  },
  {
   "cell_type": "markdown",
   "id": "4d7cb4ff",
   "metadata": {
    "id": "4d7cb4ff"
   },
   "source": [
    "<div class=\"alert alert-block alert-info\">\n",
    "<b> Green.start_position[X]<=Blue.end_position[B] AND Blue.start_position[A]<=Green.end_position[Y]</b>\n",
    "\n",
    "Source: https://stackoverflow.com/questions/20981783/how-to-sum-overlapping-interval-parts-in-sql.\n",
    "</div>"
   ]
  },
  {
   "cell_type": "markdown",
   "id": "772209bf",
   "metadata": {
    "id": "772209bf"
   },
   "source": [
    "The code below uses the `JOIN` function to compare two datasets using overlapping condition."
   ]
  },
  {
   "cell_type": "markdown",
   "id": "22aee871",
   "metadata": {
    "id": "22aee871"
   },
   "source": [
    "1. Rather than comparing whether the two datasets are exactly the same, this method focuses on overlapping regions. In the following example, we are running chromosome 17 from the ***1000 Genomes Project*** against gene TP53 from chromosome 17 in the ***UCSC RefGene Annotation*** dataset.\n",
    "2. The `ON` condition is trying to see if there is any overlapping between the two datasets in the selected region. See the graph below:\n"
   ]
  },
  {
   "cell_type": "code",
   "execution_count": null,
   "id": "be68c6ae",
   "metadata": {
    "id": "be68c6ae"
   },
   "outputs": [],
   "source": [
    "pd.read_sql(\"SELECT A.chrm, A.start_position, A.end_position, A.reference_bases, A.alternate_bases,B.name, B.name2, A.info \"\n",
    "+ \" FROM (SELECT * FROM \\\"default\\\".g1000vcf_csv_int WHERE chrm='17') as A \"\n",
    "+ \" JOIN \"\n",
    "+ \" (SELECT * FROM \\\"1000_genomes\\\".hg19_ucsc_refgene_int WHERE chrm='17' and name2='TP53') as B \"\n",
    "+ \" ON A.start_position<=B.end_position AND B.start_position<=A.end_position \"\n",
    "+ \" ORDER By  A.start_position\", conn).head()"
   ]
  },
  {
   "cell_type": "markdown",
   "id": "2e871602",
   "metadata": {
    "id": "2e871602"
   },
   "source": [
    "<img src=\"materials/images/conductor.png\"/>"
   ]
  },
  {
   "cell_type": "markdown",
   "id": "2ed7a679",
   "metadata": {
    "id": "2ed7a679"
   },
   "source": [
    "For your information, TP53 gene provides instructions for making a protein called tumor protein p53 (or p53). This protein acts as a tumor suppressor, which means that it regulates cell division by keeping cells from growing and dividing (proliferating) too fast, or in an uncontrolled way. TP53 acts like a conductor in an orchestra."
   ]
  },
  {
   "cell_type": "markdown",
   "id": "feed3754",
   "metadata": {
    "id": "feed3754"
   },
   "source": [
    "The table gives us a view of all the mutations on gene TP53 on chromosome 2. Typically, mutations on TP53 are considered as rare mutations."
   ]
  },
  {
   "cell_type": "markdown",
   "id": "629e1248",
   "metadata": {
    "id": "629e1248"
   },
   "source": [
    "---"
   ]
  },
  {
   "cell_type": "markdown",
   "id": "e39433dd",
   "metadata": {
    "id": "e39433dd"
   },
   "source": [
    "# Contributions & acknowledgement"
   ]
  },
  {
   "cell_type": "markdown",
   "id": "a1b11e03",
   "metadata": {
    "id": "a1b11e03"
   },
   "source": [
    "Thank the following team for working on this module:\n",
    "\n",
    "- **Module Content**: Amir Bahmani\n",
    "- **Engineering**: Amit Dixit\n",
    "- **UX/UI Design & Illustration**: Kexin Cha\n",
    "- **Video Production**: Francesca Goncalves\n",
    "- **Project Management**: Amir Bahmani, Kexin Cha"
   ]
  },
  {
   "cell_type": "markdown",
   "id": "df6e5f8b",
   "metadata": {
    "id": "df6e5f8b"
   },
   "source": [
    "---"
   ]
  },
  {
   "cell_type": "markdown",
   "id": "a6c76386",
   "metadata": {
    "id": "a6c76386"
   },
   "source": [
    "Copyright (c) 2022 Stanford Data Ocean (SDO)\n",
    "\n",
    "All rights reserved."
   ]
  }
 ],
 "metadata": {
  "colab": {
   "provenance": []
  },
  "kernelspec": {
   "display_name": "Python 3 (ipykernel)",
   "language": "python",
   "name": "python3"
  },
  "language_info": {
   "codemirror_mode": {
    "name": "ipython",
    "version": 3
   },
   "file_extension": ".py",
   "mimetype": "text/x-python",
   "name": "python",
   "nbconvert_exporter": "python",
   "pygments_lexer": "ipython3",
   "version": "3.10.13"
  }
 },
 "nbformat": 4,
 "nbformat_minor": 5
}
